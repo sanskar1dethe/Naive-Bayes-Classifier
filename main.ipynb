{
 "cells": [
  {
   "cell_type": "code",
   "execution_count": 1,
   "id": "5a906f6f",
   "metadata": {
    "scrolled": true
   },
   "outputs": [],
   "source": [
    "import csv\n",
    "import pandas as pd\n",
    "from sklearn.model_selection import train_test_split\n",
    "\n",
    "df = pd.read_csv(\"A_Z_Data.csv\")\n",
    "\n",
    "X = df.iloc[:,1:785]\n",
    "y = df.iloc[:,0]\n",
    "train_X, val_X, train_y,val_y  = train_test_split(X,y, random_state = 0)\n",
    " "
   ]
  },
  {
   "cell_type": "code",
   "execution_count": 2,
   "id": "add1a60d",
   "metadata": {},
   "outputs": [
    {
     "data": {
      "text/plain": [
       "{22: 8113,\n",
       " 18: 36429,\n",
       " 15: 14510,\n",
       " 13: 14200,\n",
       " 19: 16988,\n",
       " 11: 8695,\n",
       " 2: 17497,\n",
       " 20: 21844,\n",
       " 3: 7635,\n",
       " 0: 10371,\n",
       " 14: 43241,\n",
       " 17: 8652,\n",
       " 16: 4299,\n",
       " 12: 9300,\n",
       " 7: 5427,\n",
       " 23: 4720,\n",
       " 9: 6334,\n",
       " 10: 4239,\n",
       " 4: 8592,\n",
       " 8: 822,\n",
       " 24: 8110,\n",
       " 21: 3144,\n",
       " 25: 4532,\n",
       " 1: 6456,\n",
       " 6: 4289,\n",
       " 5: 872}"
      ]
     },
     "execution_count": 2,
     "metadata": {},
     "output_type": "execute_result"
    }
   ],
   "source": [
    "\n",
    "\n",
    "train_y_list = []\n",
    "train_y_dict = dict()\n",
    "\n",
    "for i in range(int(train_y.size)):\n",
    "    train_y_list.append(train_y.iloc[i])\n",
    "for i in range(len(train_y_list)):\n",
    "    if train_y_list[i] in train_y_dict:\n",
    "        train_y_dict[train_y_list[i]] = train_y_dict[train_y_list[i]] + 1\n",
    "    else:\n",
    "        train_y_dict[train_y_list[i]] = 0\n",
    "\n",
    "        \n",
    "train_y_dict        \n",
    "    \n",
    "\n",
    "    \n",
    "\n"
   ]
  },
  {
   "cell_type": "code",
   "execution_count": 3,
   "id": "aaa30f35",
   "metadata": {},
   "outputs": [
    {
     "data": {
      "text/plain": [
       "{22: 0.02904377150180606,\n",
       " 18: 0.1304123692887086,\n",
       " 15: 0.05194442555049993,\n",
       " 13: 0.05083465491503095,\n",
       " 19: 0.0608154308237004,\n",
       " 11: 0.031127276372267188,\n",
       " 2: 0.06263760260903496,\n",
       " 20: 0.0781994508425307,\n",
       " 3: 0.0273325767800184,\n",
       " 0: 0.037127197614351126,\n",
       " 14: 0.15479868402682065,\n",
       " 17: 0.030973340445411814,\n",
       " 16: 0.015390012780261834,\n",
       " 12: 0.033293119064069565,\n",
       " 7: 0.019428145931258658,\n",
       " 23: 0.01689715290133423,\n",
       " 9: 0.02267512001632437,\n",
       " 10: 0.01517521846371945,\n",
       " 4: 0.03075854612886943,\n",
       " 8: 0.002942682136630665,\n",
       " 24: 0.029033031785978942,\n",
       " 21: 0.011255222186820936,\n",
       " 25: 0.016224130709501426,\n",
       " 1: 0.02311186845996055,\n",
       " 6: 0.01535421372750477,\n",
       " 5: 0.003121677400415985}"
      ]
     },
     "execution_count": 3,
     "metadata": {},
     "output_type": "execute_result"
    }
   ],
   "source": [
    "train_y_prob = train_y_dict\n",
    "for i in range(len(train_y_dict)):\n",
    "    train_y_prob[i] = train_y_prob[i]/len(train_y)\n",
    "train_y_prob"
   ]
  },
  {
   "cell_type": "code",
   "execution_count": 4,
   "id": "e094e95e",
   "metadata": {},
   "outputs": [],
   "source": [
    "def prob_X_given_y(df1,df2,Xn,n,k):\n",
    "    y=0\n",
    "    for i in range(len(df1)):\n",
    "       if(df1.iloc[i,n]==Xn and df2.iloc[i]==k):\n",
    "        y= y+1\n",
    "    return (y/train_y_dict[k])"
   ]
  },
  {
   "cell_type": "code",
   "execution_count": 5,
   "id": "958675d2",
   "metadata": {},
   "outputs": [],
   "source": [
    " def bernoulli_naive_bayes_classifier(dataframe, features):\n",
    "        answer_list = []\n",
    "        answer_dict = {}\n",
    "        for i in train_y_dict.keys():\n",
    "            answer_dict[i] = 0 \n",
    "       \n",
    "        for X in features:\n",
    "            \n",
    "            for y in train_y_dict.keys():\n",
    "                product_x_given_y=1 \n",
    "                for j in range(len(features[0])):\n",
    "                    product_x_given_y *= prob_X_given_y(train_X,train_y,X[j],j,y)\n",
    "                prob_y = train_y_prob[y]\n",
    "                final_product = product_x_given_y*prob_y\n",
    "                answer_dict[y] = final_product\n",
    "        \n",
    "            answer_keys = answer_dict.keys()\n",
    "            answer_values = answer_dict.values()\n",
    "        \n",
    "            final_ans = answer_keys[answer_values.index(max(answer_values))]\n",
    "            answer_list.append(final_ans)\n",
    "            return answer_list\n",
    "        "
   ]
  },
  {
   "cell_type": "code",
   "execution_count": 21,
   "id": "9e04e0de",
   "metadata": {},
   "outputs": [
    {
     "name": "stdout",
     "output_type": "stream",
     "text": [
      "22\n",
      "18\n",
      "15\n",
      "13\n",
      "19\n",
      "11\n",
      "2\n",
      "20\n",
      "3\n",
      "0\n",
      "14\n",
      "17\n",
      "16\n",
      "12\n",
      "7\n",
      "23\n",
      "9\n",
      "10\n",
      "4\n",
      "8\n",
      "24\n",
      "21\n",
      "25\n",
      "1\n",
      "6\n",
      "5\n"
     ]
    }
   ],
   "source": [
    "Y_pred = bernoulli_naive_bayes_classifier(train,X_test)"
   ]
  },
  {
   "cell_type": "code",
   "execution_count": null,
   "id": "16bdd0db",
   "metadata": {},
   "outputs": [],
   "source": [
    "from sklearn.metrics import confusion_matrix, f1_score\n",
    "print(confusion_matrix(Y_test, Y_pred))\n",
    "print(f1_score(Y_test, Y_pred))"
   ]
  }
 ],
 "metadata": {
  "kernelspec": {
   "display_name": "Python 3 (ipykernel)",
   "language": "python",
   "name": "python3"
  },
  "language_info": {
   "codemirror_mode": {
    "name": "ipython",
    "version": 3
   },
   "file_extension": ".py",
   "mimetype": "text/x-python",
   "name": "python",
   "nbconvert_exporter": "python",
   "pygments_lexer": "ipython3",
   "version": "3.9.6"
  }
 },
 "nbformat": 4,
 "nbformat_minor": 5
}
